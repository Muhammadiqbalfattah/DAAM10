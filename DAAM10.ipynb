{
  "nbformat": 4,
  "nbformat_minor": 0,
  "metadata": {
    "colab": {
      "provenance": []
    },
    "kernelspec": {
      "name": "python3",
      "display_name": "Python 3"
    },
    "language_info": {
      "name": "python"
    }
  },
  "cells": [
    {
      "cell_type": "code",
      "execution_count": 15,
      "metadata": {
        "colab": {
          "base_uri": "https://localhost:8080/"
        },
        "id": "xyZc4rqx1Lvx",
        "outputId": "2437392e-1438-4054-9836-29e4e524f0f8"
      },
      "outputs": [
        {
          "output_type": "stream",
          "name": "stdout",
          "text": [
            "ERROR: unknown command \"import\"\n"
          ]
        }
      ],
      "source": [
        "#Linear Programming\n",
        "\n",
        " import pulp \n"
      ]
    },
    {
      "cell_type": "code",
      "source": [
        "model = pulp.LpProblem(\"ProfitMaximisingProblem\", pulp.LpMaximize)\n"
      ],
      "metadata": {
        "id": "lEZlRXCe1sWm"
      },
      "execution_count": null,
      "outputs": []
    },
    {
      "cell_type": "code",
      "source": [
        "A = pulp.LpVariable ('A', lowBound= 0, cat='Integer')\n",
        "B = pulp.LpVariable ('B', lowBound= 0, cat='Integer')"
      ],
      "metadata": {
        "id": "xgYL_osi260H"
      },
      "execution_count": null,
      "outputs": []
    },
    {
      "cell_type": "code",
      "source": [
        "#Objective function \n",
        "model += 5000 * A + 2500 * B, \"Profit\"\n",
        "\n",
        "#Constraints\n",
        "model += 3 * A + 2 * B <= 20\n",
        "model += 4 * A + 3 * B <= 30\n",
        "model += 4 * A + 3 * B <= 40"
      ],
      "metadata": {
        "id": "1U9w0e0p29Mv"
      },
      "execution_count": null,
      "outputs": []
    },
    {
      "cell_type": "code",
      "source": [
        "#Solve out problem\n",
        "model.solve()\n",
        "pulp.LpStatus[model.status]"
      ],
      "metadata": {
        "id": "1L_e1-9o3WrC"
      },
      "execution_count": null,
      "outputs": []
    },
    {
      "cell_type": "code",
      "source": [
        "print (A.varValue)\n",
        "print (B.varValue)"
      ],
      "metadata": {
        "id": "gZ_tViLX3hBA"
      },
      "execution_count": null,
      "outputs": []
    },
    {
      "cell_type": "code",
      "source": [
        "print (pulp.value(model.objective))"
      ],
      "metadata": {
        "id": "--V-uKS94h3R"
      },
      "execution_count": null,
      "outputs": []
    },
    {
      "cell_type": "code",
      "source": [
        "#Latihan 1\n",
        "X = pulp.LpVariable ('X', lowBound= 0, cat='Integer')\n",
        "Y = pulp.LpVariable ('Y', lowBound= 0, cat='Integer')\n",
        "#Objective function \n",
        "model += 5000 * X + 2500 * Y, \"Profit\"\n",
        "\n",
        "#Constraints\n",
        "model += 4 * X + 3 * Y <= 34\n",
        "model += 5 * X + 1 * Y <= 37\n",
        "\n",
        "model.solve()\n",
        "pulp.LpStatus[model.status]\n",
        "\n",
        "print (X.varValue)\n",
        "print (Y.varValue)\n",
        "\n",
        "print (pulp.value(model.objective))\n"
      ],
      "metadata": {
        "id": "Te7XLyFv4hxs"
      },
      "execution_count": null,
      "outputs": []
    },
    {
      "cell_type": "code",
      "source": [
        "#Latihan 2\n",
        "P = pulp.LpVariable ('P', lowBound= 0, cat='Integer')\n",
        "B = pulp.LpVariable ('B', lowBound= 0, cat='Integer')\n",
        "#Objective function \n",
        "model += 11000 * P + 15000* Y, \"Profit\"\n",
        "\n",
        "#Constraints\n",
        "model += 3 * P + 4 * B <= 11000\n",
        "model += 1 * X + 7 * B <= 15000\n",
        "\n",
        "model.solve()\n",
        "pulp.LpStatus[model.status]\n",
        "\n",
        "print (X.varValue)\n",
        "print (Y.varValue)\n",
        "\n",
        "print (pulp.value(model.objective))"
      ],
      "metadata": {
        "id": "x7X4MWyE5lii"
      },
      "execution_count": null,
      "outputs": []
    },
    {
      "cell_type": "code",
      "source": [
        "#Aplikasi Linear Scipy\n",
        "import numpy as np\n",
        "from scipy.optimize import linprog\n",
        "A = np.array([[1,0],[2,3],[1,1],[-1,0],[0,-1]])\n",
        "B = np.array([16,19,8,0,0])\n",
        "C = np.array([-5,-7])\n",
        "\n",
        "res = linprog(C,A_ub=A, B_ub = B)\n",
        "print('Optimal value:', round(res.fun*-1, ndigits=2),\n",
        "      '\\nx values: ', res.x,\n",
        "      '\\nNumber of iterations performed: ', res.nit,\n",
        "      '\\nStatus: ', res.messge)\n",
        "\n"
      ],
      "metadata": {
        "id": "p9WftPpr8JRH"
      },
      "execution_count": null,
      "outputs": []
    }
  ]
}